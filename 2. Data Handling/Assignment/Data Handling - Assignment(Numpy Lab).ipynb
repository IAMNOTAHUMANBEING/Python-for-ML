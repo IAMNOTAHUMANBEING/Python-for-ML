{
 "cells": [
  {
   "cell_type": "code",
   "execution_count": 120,
   "metadata": {},
   "outputs": [],
   "source": [
    "import numpy as np                                                    "
   ]
  },
  {
   "cell_type": "code",
   "execution_count": 16,
   "metadata": {},
   "outputs": [],
   "source": [
    "def n_size_ndarray_creation(n, dtype=np.int):\n",
    "    X = np.arange(n*n).reshape(n,n)\n",
    "    return X                                                      "
   ]
  },
  {
   "cell_type": "code",
   "execution_count": 74,
   "metadata": {},
   "outputs": [],
   "source": [
    "#Ver 1\n",
    "\n",
    "def zero_or_one_or_empty_ndarray(shape, type=0, dtype=np.int):\n",
    "    if type == 0:\n",
    "        X = np.zeros(shape)\n",
    "    if type ==1:\n",
    "        X = np.ones(shape)\n",
    "    if type ==99:\n",
    "        X = np.empty(shape)\n",
    "    return X"
   ]
  },
  {
   "cell_type": "code",
   "execution_count": 75,
   "metadata": {},
   "outputs": [],
   "source": [
    "#Ver 2\n",
    "\n",
    "def zero_or_one_or_empty_ndarray(shape, type=0, dtype=np.int):\n",
    "    dict = {0:'zeros',1:'ones',99:'empty'}\n",
    "    X = eval(\"np.\"+ dict[type] + \"(\"+ str(shape) +\")\")\n",
    "    return X"
   ]
  },
  {
   "cell_type": "code",
   "execution_count": 116,
   "metadata": {},
   "outputs": [],
   "source": [
    "def change_shape_of_ndarray(X, n_row):\n",
    "    return X.flatten() if n_row==1 else X.reshape(n_row, -1)\n",
    "\n",
    "# if A else B 까먹음"
   ]
  },
  {
   "cell_type": "code",
   "execution_count": 4,
   "metadata": {},
   "outputs": [],
   "source": [
    "def concat_ndarray(X_1, X_2, axis): \n",
    "    try:\n",
    "        if X_1.ndim == 1:\n",
    "            X_1 = X_1.reshape(1, -1)\n",
    "        if X_2.ndim == 1:\n",
    "            X_2 = X_2.reshape(1, -1)\n",
    "        return np.concatenate((X_1,X_2),axis=axis)\n",
    "    except ValueError as e:\n",
    "        return False\n",
    "    \n",
    "# 문제 난해하게 써둬서 답안 참고, 더 간단한 문제였음. 에러는 Try 사용, ndim 까먹어서 shape index, len 씀...\n",
    "# vector를 matrix로 바꿀 땐 reshape"
   ]
  },
  {
   "cell_type": "code",
   "execution_count": 117,
   "metadata": {},
   "outputs": [],
   "source": [
    "def normalize_ndarray(X, axis=99, dtype=np.float32):\n",
    "    if axis == 99:\n",
    "        X = (X-X.mean())/X.std()\n",
    "        return X\n",
    "    elif axis == 1:\n",
    "        X = (X-X.mean(axis = 1).reshape(-1, 1))/X.std(axis = 1).reshape(-1, 1)\n",
    "        return X\n",
    "    elif axis == 0: \n",
    "        X = (X-X.mean(axis = 0).reshape(1, -1))/X.std(axis = 0).reshape(1, -1)\n",
    "        return X\n",
    "\n",
    "# axis 헷갈려서 에러났었음. axis=1은 column을 의미 mean을 구하면 -> 방향으로 연산\n",
    "# vector일때 matrix처럼 작동하지 않음을 주의"
   ]
  },
  {
   "cell_type": "code",
   "execution_count": 118,
   "metadata": {},
   "outputs": [
    {
     "data": {
      "text/plain": [
       "'\\ndef save_ndarray(X, filename=\"test.npy\"):\\n    file_test = open(fimename, \"wb\")\\n    np.save(X, file_test)\\n'"
      ]
     },
     "execution_count": 118,
     "metadata": {},
     "output_type": "execute_result"
    }
   ],
   "source": [
    "def save_ndarray(X, filename=\"test.npy\"):\n",
    "    np.savetxt(filename, X, delimiter=\",\")\n",
    "\n",
    "\"\"\"\n",
    "교수님 풀이\n",
    "\n",
    "def save_ndarray(X, filename=\"test.npy\"):\n",
    "    file_test = open(fimename, \"wb\")\n",
    "    np.save(X, file_test)\n",
    "\"\"\""
   ]
  },
  {
   "cell_type": "code",
   "execution_count": 143,
   "metadata": {},
   "outputs": [
    {
     "data": {
      "text/plain": [
       "'\\n내 풀이\\n\\ndef boolean_index(X, condition):\\n    X = X[eval(str(\"X\") + condition)]\\n    return X\\n\\n#index가 아니라 값이 나오게 코딩함\\n'"
      ]
     },
     "execution_count": 143,
     "metadata": {},
     "output_type": "execute_result"
    }
   ],
   "source": [
    "def boolean_index(X, condition):\n",
    "    condition = eval(str(\"X\") + condition)\n",
    "    return np.where(condition)\n",
    "\"\"\"\n",
    "내 풀이\n",
    "\n",
    "def boolean_index(X, condition):\n",
    "    X = X[eval(str(\"X\") + condition)]\n",
    "    return X\n",
    "\n",
    "index가 아니라 값이 나오게 코딩함\n",
    "\"\"\""
   ]
  },
  {
   "cell_type": "code",
   "execution_count": 84,
   "metadata": {},
   "outputs": [],
   "source": [
    "def find_nearest_value(X, target_value):\n",
    "    X = X[np.argmin(abs(X - target_value))]\n",
    "    return X"
   ]
  },
  {
   "cell_type": "code",
   "execution_count": 113,
   "metadata": {},
   "outputs": [],
   "source": [
    "def get_n_largest_values(X, n):\n",
    "    X = X[np.argsort(-X)]\n",
    "    return X[:n]\n",
    "\n",
    "\"\"\"\n",
    "교수님 풀이\n",
    "\n",
    "def get_n_largest_values(X, n):\n",
    "    return  X[np.argsort(X)[::-1]][:n]\n",
    "\n",
    "argsort는 크기 순서로 작은 값부터 인덱스 값으로 정렬함\n",
    "numpy에서 for문은 안쓰는 것이 좋다. npwhere, arg를 이용해 index를 컨트롤하자.\n",
    "\"\"\""
   ]
  }
 ],
 "metadata": {
  "kernelspec": {
   "display_name": "Python 3",
   "language": "python",
   "name": "python3"
  },
  "language_info": {
   "codemirror_mode": {
    "name": "ipython",
    "version": 3
   },
   "file_extension": ".py",
   "mimetype": "text/x-python",
   "name": "python",
   "nbconvert_exporter": "python",
   "pygments_lexer": "ipython3",
   "version": "3.8.5"
  }
 },
 "nbformat": 4,
 "nbformat_minor": 4
}
