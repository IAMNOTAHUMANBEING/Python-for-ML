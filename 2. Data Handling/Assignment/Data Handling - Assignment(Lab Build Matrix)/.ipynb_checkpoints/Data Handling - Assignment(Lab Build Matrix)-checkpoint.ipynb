{
 "cells": [
  {
   "cell_type": "code",
   "execution_count": 12,
   "metadata": {},
   "outputs": [],
   "source": [
    "import numpy as np\n",
    "import pandas as pd"
   ]
  },
  {
   "cell_type": "code",
   "execution_count": 87,
   "metadata": {
    "scrolled": true
   },
   "outputs": [
    {
     "data": {
      "text/plain": [
       "array([[3. , 0. , 3.5, 0. , 4.5, 0. ],\n",
       "       [0. , 3. , 3.5, 0. , 3. , 3.5],\n",
       "       [0. , 3. , 4. , 5. , 3. , 3.5],\n",
       "       [3. , 2.5, 3.5, 3.5, 3. , 2.5],\n",
       "       [2. , 3. , 4. , 3. , 3. , 0. ],\n",
       "       [0. , 0. , 4.5, 4. , 0. , 0. ]])"
      ]
     },
     "execution_count": 87,
     "metadata": {},
     "output_type": "execute_result"
    }
   ],
   "source": [
    "def get_rating_matrix(filename):\n",
    "    df = pd.read_csv(filename)\n",
    "    return df.groupby([\"source\",\"target\"])[\"rating\"].sum().unstack().fillna(0).values  \n",
    "    #의미상 sum()이 아니라 first()가 어울림. 근데 한번씩만 있어서 상관없음.\n",
    "    \n",
    "get_rating_matrix(\"movie_rating.csv\")"
   ]
  },
  {
   "cell_type": "code",
   "execution_count": 89,
   "metadata": {},
   "outputs": [
    {
     "data": {
      "text/plain": [
       "array([[19., 17., 14., 11., 17., 25.,  7., 22.,  5., 18., 10., 13., 13.,\n",
       "         8., 20., 10.,  9., 10., 16., 15.,  9., 11., 17., 15., 14.,  8.,\n",
       "         6., 12., 18., 12.,  6., 18.,  9., 24.,  7., 19., 14.,  6.,  4.,\n",
       "        12., 15., 14., 20.,  9., 12., 16., 11.,  9., 11., 12.],\n",
       "       [20., 16., 10., 15., 17., 18., 10., 13.,  5., 19.,  8., 14., 14.,\n",
       "         9., 15., 14., 13.,  8., 12.,  9.,  5., 10., 28., 18.,  7.,  8.,\n",
       "         6., 19., 14., 13., 11., 12., 18., 15.,  7., 11., 17.,  9.,  5.,\n",
       "         5., 13., 12., 15.,  9., 13., 16., 16., 10., 16.,  9.],\n",
       "       [12., 16., 13., 19., 23., 19.,  5., 14.,  5., 18.,  7.,  6., 14.,\n",
       "         8., 20., 17., 14., 11., 16., 12.,  7.,  9., 23., 12., 12.,  8.,\n",
       "         7., 23., 26., 10.,  9., 20., 16., 11.,  4., 19., 12., 12.,  5.,\n",
       "        10., 10., 14., 10., 17., 15., 16., 11., 17.,  9., 11.],\n",
       "       [14., 14., 19., 11., 11., 18.,  7., 16.,  7., 17.,  6., 19., 18.,\n",
       "        12., 13., 13., 14.,  9., 21., 16.,  6.,  6., 19., 14., 19.,  5.,\n",
       "        12., 14., 18., 11., 11., 21., 15., 10., 11., 14., 17., 21.,  6.,\n",
       "        14.,  9., 16., 18., 12., 16., 16., 26., 16., 12., 20.],\n",
       "       [13.,  7.,  8., 15., 13., 16.,  3., 19., 11., 12.,  7., 10., 13.,\n",
       "        14., 16., 14., 23.,  9., 13., 10., 11.,  3., 11., 14.,  9.,  6.,\n",
       "        11., 16., 18., 11.,  5., 14., 10., 16., 10.,  5., 14., 11.,  3.,\n",
       "         9., 11., 10., 16.,  8., 13., 20., 14., 18., 21.,  3.]],\n",
       "      dtype=float32)"
      ]
     },
     "execution_count": 89,
     "metadata": {},
     "output_type": "execute_result"
    }
   ],
   "source": [
    "def get_frequent_matrix(filename):\n",
    "    df = pd.read_csv(filename)\n",
    "    df[\"number\"] = 1 # 이게 더 간단\n",
    "    #df.insert(2,\"number\",1) column 추가하는 방법2\n",
    "    return df.groupby([\"source\",\"target\"])[\"number\"].sum().unstack().values.astype(np.float32)\n",
    "\n",
    "get_frequent_matrix(\"1000i.csv\")"
   ]
  },
  {
   "cell_type": "code",
   "execution_count": null,
   "metadata": {},
   "outputs": [],
   "source": []
  }
 ],
 "metadata": {
  "kernelspec": {
   "display_name": "Python 3",
   "language": "python",
   "name": "python3"
  },
  "language_info": {
   "codemirror_mode": {
    "name": "ipython",
    "version": 3
   },
   "file_extension": ".py",
   "mimetype": "text/x-python",
   "name": "python",
   "nbconvert_exporter": "python",
   "pygments_lexer": "ipython3",
   "version": "3.8.5"
  }
 },
 "nbformat": 4,
 "nbformat_minor": 4
}
