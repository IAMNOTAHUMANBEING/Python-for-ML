{
 "cells": [
  {
   "cell_type": "code",
   "execution_count": 163,
   "metadata": {},
   "outputs": [
    {
     "data": {
      "text/plain": [
       "'\\nN = N개 수\\nn_list = 1 2 3 4 ... N\\no_list = + - x / \\n'"
      ]
     },
     "execution_count": 163,
     "metadata": {},
     "output_type": "execute_result"
    }
   ],
   "source": [
    "\"\"\"\n",
    "N = N개 수\n",
    "n_list = 1 2 3 4 ... N\n",
    "o_list = + - x / \n",
    "\"\"\""
   ]
  },
  {
   "cell_type": "code",
   "execution_count": 186,
   "metadata": {},
   "outputs": [
    {
     "name": "stdout",
     "output_type": "stream",
     "text": [
      "54.0\n",
      "-24\n"
     ]
    }
   ],
   "source": [
    "from itertools import permutations\n",
    "\n",
    "#예제 값\n",
    "N = 6\n",
    "n_list = [1,2,3,4,5,6]\n",
    "o_list = [2,1,1,1]\n",
    "\n",
    "op_list = [] #연산자 개수를 각 기호로 바꿔서 리스트에 넣음\n",
    "o_dict = {0:\"0\", 1:\"1\", 2:\"2\", 3:\"3\"} #개수로 들어온 연산자를 기호로 바꾸는 dict\n",
    "op_dict = {'0':\"+\",'1':\"-\",'2':\"*\",'3':\"//\"} #permutation쓰면 //가 섞이므로 연산시 기호로 바꿔주는 dict\n",
    "\n",
    "for i, n in enumerate(o_list):  #개수로 들어온 연산자를 인덱스를 통해 기호로 바꿔줌\n",
    "    op_list.extend(n*o_dict[i])    \n",
    "    \n",
    "real_o = tuple(map(''.join, permutations(op_list))) #가능한 경우의 수를 구하고 같은 것이 있으므로 tuple로 삭제\n",
    "\n",
    "f_result = [] #연산된 값들이 모일 리스트\n",
    "for i in real_o:\n",
    "    result = n_list[0] # 어떤 결과를 언제 초기화 해야하는 지 반복문에서 중요함!\n",
    "    for k in range(1,N):\n",
    "        if result <0 and list(i)[k-1] == \"3\": #앞 수가 음수이고 나눗셈을 할 때 다르게 연산해야하므로\n",
    "            result = abs(eval(str(result) + \"/\" + str(n_list[k]))) \n",
    "        result = eval(str(result) + op_dict[list(i)[k-1]] + str(n_list[k])) #\n",
    "    f_result.append(result)   \n",
    "    \n",
    "    \n",
    "print(max(f_result)) \n",
    "print(min(f_result))    "
   ]
  },
  {
   "cell_type": "code",
   "execution_count": 110,
   "metadata": {},
   "outputs": [
    {
     "data": {
      "text/plain": [
       "-2"
      ]
     },
     "execution_count": 110,
     "metadata": {},
     "output_type": "execute_result"
    }
   ],
   "source": [
    "#시행착오 \n",
    "\n",
    "#try1: 처음에 완성 -> 결과를 eval로 한번에 구해서 연산과정을 정직하게 시행 -> fail\n",
    "#try2: 단계를 나눠서 연산을 진행하게 함 -> 나눗셈 기호 //인데 /로 품 -> fail\n",
    "#try3: 나눗셈 기호가 //이라 permutation을 쓰고 나면 //기호를 묶어서 가져오기가 힘듬 -> fail\n",
    "#try4: dict를 두번 사용해서 permutation을 시행하고 연산을 할때 연산자를 가져오게 만듬-\n",
    "#-> python이 C++14와 음수 나누기를 다르게 함으로 그냥 앞의 결과가 음수이고 나누기를 할때 / 하고 절댓값 씌우는 방법으로 해야함을 깨달음\n",
    "#try5: 돌고 돌아서 성공."
   ]
  },
  {
   "cell_type": "code",
   "execution_count": 189,
   "metadata": {
    "scrolled": true
   },
   "outputs": [
    {
     "name": "stdout",
     "output_type": "stream",
     "text": [
      "54\n",
      "-24\n"
     ]
    }
   ],
   "source": [
    "\"\"\"\n",
    "교수님 풀이\n",
    "\"\"\"\n",
    "import itertools\n",
    "from functools import reduce\n",
    "import sys\n",
    "import time\n",
    "\n",
    "def insert_operation(length, input_num,input_oper):\n",
    "\n",
    "    ops = {\"0\": (lambda x,y:x+y), \"1\": (lambda x,y: x-y), \"2\":(lambda x,y: x*y), \"3\":(lambda x,y: int(x/y))} #나눗셈 규칙을 위해\n",
    "    oper_permutation = []\n",
    "    result = []\n",
    "    list(oper_permutation.extend([str(index)]*value) for index, value in enumerate(input_oper) if value > 0) # if를 이용해서 공백이 들어가는 걸 방지\n",
    "    #리스트 내포를 행동으로 사용할 때 이렇게 이용 가능.\n",
    "    permutation = [list(x) for x in set(itertools.permutations(oper_permutation))] #set으로 중복제거\n",
    "    for i in permutation:\n",
    "         result.append(reduce(lambda x,y: ops[i.pop()](x,y), input_num)) \n",
    "    #섞기 전에 연산자로 바꿔두면 //같은 거 처리곤란 -> 연산할 때 바꾸면 되지!\n",
    "    #차례대로 계산 -> Reduce 사용     \n",
    "    print(str(max(result))+\"\\n\"+str(min(result)))\n",
    "\n",
    "insert_operation(6, [1,2,3,4,5,6], [2,1,1,1])"
   ]
  },
  {
   "cell_type": "code",
   "execution_count": null,
   "metadata": {},
   "outputs": [],
   "source": []
  }
 ],
 "metadata": {
  "kernelspec": {
   "display_name": "Python 3",
   "language": "python",
   "name": "python3"
  },
  "language_info": {
   "codemirror_mode": {
    "name": "ipython",
    "version": 3
   },
   "file_extension": ".py",
   "mimetype": "text/x-python",
   "name": "python",
   "nbconvert_exporter": "python",
   "pygments_lexer": "ipython3",
   "version": "3.8.5"
  }
 },
 "nbformat": 4,
 "nbformat_minor": 4
}
