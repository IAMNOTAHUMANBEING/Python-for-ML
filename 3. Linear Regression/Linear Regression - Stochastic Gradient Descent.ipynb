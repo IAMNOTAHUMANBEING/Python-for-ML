{
 "cells": [
  {
   "cell_type": "markdown",
   "metadata": {},
   "source": [
    "# Full-batch gradient descent"
   ]
  },
  {
   "cell_type": "markdown",
   "metadata": {},
   "source": [
    "- 전체 점의 평균 gradient를 구해서 업데이트 하는 방법\n",
    "- 업데이트 감소 -> 계산상 효율적\n",
    "- 안정적인 Cost 함수 수렴\n",
    "- 지역 최적화 가능\n",
    "- 메모리 문제(ex - 30억개의 데이터를 한번에?)\n",
    "- 대규모 data set -> model/parameter 업데이트가 느려짐"
   ]
  },
  {
   "cell_type": "markdown",
   "metadata": {},
   "source": [
    "# Stochastic gradient descent"
   ]
  },
  {
   "cell_type": "markdown",
   "metadata": {},
   "source": [
    "- 원래 의미는 data set에서 random하게 training sample을 뽑은 후 학습할 때 사용함\n",
    "- Data를 넣기 전에 shuffle\n",
    "- 빈번한 업데이트 모델 성능 및 개선 속도 확인 가능\n",
    "- 일부 문제에 대해 더 빨리 수렴\n",
    "- 지역 최적화 회피\n",
    "- 대용량 데이터시 시간이 오래 걸림\n",
    "- 더이상 cost가 줄어들지 않는 시점의 발견이 어려움"
   ]
  },
  {
   "cell_type": "markdown",
   "metadata": {},
   "source": [
    "# Mini-batch SGD"
   ]
  },
  {
   "cell_type": "markdown",
   "metadata": {},
   "source": [
    "- 한번에 일정량의 데이터를 랜덤하게 뽑아서 학습\n",
    "- SGD와 Batch GD를 혼합한 기법\n",
    "- 가장 일반적으로 많이 쓰임"
   ]
  },
  {
   "cell_type": "markdown",
   "metadata": {},
   "source": [
    "# Epoch & Batch size"
   ]
  },
  {
   "cell_type": "markdown",
   "metadata": {},
   "source": [
    "- 전체 데이터가 Training 데이터에 들어갈 때 카운팅\n",
    "- Full-batch를 n번 실행하면 n epoch\n",
    "- Batch-size 한번엔 학습되는 데이터의 개수\n",
    "\n",
    "\n",
    "- 총 5120개의 Training data에 512 batch size면 몇 번 학습을 해야 1 epoch가 되는가? 10epoch\n"
   ]
  },
  {
   "cell_type": "markdown",
   "metadata": {},
   "source": [
    "#  SGD implementation issues"
   ]
  },
  {
   "cell_type": "code",
   "execution_count": 2,
   "metadata": {},
   "outputs": [
    {
     "data": {
      "text/plain": [
       "'\\nfor epoch in range(epoches): # 전체 Epoch이 iteration 되는 횟수\\n    x_copy = np.copy(x) \\n    if is_SGD:  #SGD여부 -> SGD일 경우 shuffle\\n        np.random.shuffle(x_copy)\\n    batch = len(x_copy) // BATCH_SIZE # 한번에 처리하는 BATCH SIZE\\n    for batch_count in range(batch):\\n        x_batch = np.copy(x_copy[batch_count * BATCH_SIZE: ]) # bATCH_SIZE 크기만큼 X_batch 생성\\n        \\n'"
      ]
     },
     "execution_count": 2,
     "metadata": {},
     "output_type": "execute_result"
    }
   ],
   "source": [
    "for epoch in range(epoches): # 전체 Epoch이 iteration 되는 횟수\n",
    "    x_copy = np.copy(x) \n",
    "    if is_SGD:  #SGD여부 -> SGD일 경우 shuffle\n",
    "        np.random.shuffle(x_copy)\n",
    "    batch = len(x_copy) // BATCH_SIZE # 한번에 처리하는 BATCH SIZE\n",
    "    for batch_count in range(batch):\n",
    "        x_batch = np.copy(x_copy[batch_count * BATCH_SIZE: ]) # bATCH_SIZE 크기만큼 X_batch 생성\n",
    "\n",
    "\n",
    "GD_lr: batch_size = 1, Shuffle = False \n",
    "FBGD_lr: batch_size = len(x_copy), Shuffle = False\n",
    "SGD_lr: batch_size = 1, Shuffle = True\n",
    "MSGD_lr: batch_size = len(x_copy), Shuffle = True"
   ]
  },
  {
   "cell_type": "markdown",
   "metadata": {},
   "source": [
    "# Learning rate는 일정해야하는가?"
   ]
  },
  {
   "cell_type": "markdown",
   "metadata": {},
   "source": [
    "# Learning-rate decay"
   ]
  },
  {
   "cell_type": "markdown",
   "metadata": {},
   "source": [
    "- 일정한 주기마다 Learning rate를 감소시키는 방법\n",
    "- 특정 epoch마다 Learning rate를 감소\n",
    "- Hyper parameter 설정의 어려움 (사람이 설정해주는 값을 말함)\n",
    "- 지수감소, 1/t 감소"
   ]
  },
  {
   "cell_type": "markdown",
   "metadata": {},
   "source": [
    "# 종료조건 설정"
   ]
  },
  {
   "cell_type": "markdown",
   "metadata": {},
   "source": [
    "- SGD 과정에서 특정 값 이하로 cost function이 줄어들지 않을 경우 GD를 멈추는 방법\n",
    "- 성능이 좋아지지 않는/ 필요없는 연산을 방지함\n",
    "- 종료조건을 설정 -tol > loss - precvious_loss\n",
    "- tol은 hyperparameter로 사람이 설정함"
   ]
  },
  {
   "cell_type": "code",
   "execution_count": null,
   "metadata": {},
   "outputs": [],
   "source": []
  }
 ],
 "metadata": {
  "kernelspec": {
   "display_name": "Python 3",
   "language": "python",
   "name": "python3"
  },
  "language_info": {
   "codemirror_mode": {
    "name": "ipython",
    "version": 3
   },
   "file_extension": ".py",
   "mimetype": "text/x-python",
   "name": "python",
   "nbconvert_exporter": "python",
   "pygments_lexer": "ipython3",
   "version": "3.8.5"
  }
 },
 "nbformat": 4,
 "nbformat_minor": 4
}
