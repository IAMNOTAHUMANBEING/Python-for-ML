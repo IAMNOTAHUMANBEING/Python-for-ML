{
 "cells": [
  {
   "cell_type": "markdown",
   "id": "substantial-crash",
   "metadata": {},
   "source": [
    "# K-fold"
   ]
  },
  {
   "cell_type": "code",
   "execution_count": 1,
   "id": "burning-grenada",
   "metadata": {},
   "outputs": [],
   "source": [
    "from sklearn import datasets\n",
    "boston = datasets.load_boston()"
   ]
  },
  {
   "cell_type": "code",
   "execution_count": 25,
   "id": "large-cricket",
   "metadata": {},
   "outputs": [],
   "source": [
    "X = boston.data\n",
    "y = boston.target"
   ]
  },
  {
   "cell_type": "code",
   "execution_count": 16,
   "id": "metropolitan-distance",
   "metadata": {},
   "outputs": [
    {
     "name": "stdout",
     "output_type": "stream",
     "text": [
      "TRAIN - 455\n",
      "TEST - 51\n",
      "TRAIN - 455\n",
      "TEST - 51\n",
      "TRAIN - 455\n",
      "TEST - 51\n",
      "TRAIN - 455\n",
      "TEST - 51\n",
      "TRAIN - 455\n",
      "TEST - 51\n",
      "TRAIN - 455\n",
      "TEST - 51\n",
      "TRAIN - 456\n",
      "TEST - 50\n",
      "TRAIN - 456\n",
      "TEST - 50\n",
      "TRAIN - 456\n",
      "TEST - 50\n",
      "TRAIN - 456\n",
      "TEST - 50\n"
     ]
    }
   ],
   "source": [
    "from sklearn.model_selection import KFold\n",
    "\n",
    "kf = KFold(n_splits=10, shuffle=True)\n",
    "\n",
    "for train_index, test_index in kf.split(X):\n",
    "    print(\"TRAIN -\", len(train_index))\n",
    "    print(\"TEST -\", len(test_index))"
   ]
  },
  {
   "cell_type": "code",
   "execution_count": 17,
   "id": "located-mission",
   "metadata": {},
   "outputs": [
    {
     "data": {
      "text/plain": [
       "(34.464084588302306, 34.07824620925927)"
      ]
     },
     "execution_count": 17,
     "metadata": {},
     "output_type": "execute_result"
    }
   ],
   "source": [
    "from sklearn.linear_model import Lasso, Ridge\n",
    "from sklearn.metrics import mean_squared_error\n",
    "kf = KFold(n_splits=10)\n",
    "lasso_regressor = Lasso()\n",
    "ridge_regressor = Ridge()\n",
    "\n",
    "lasso_mse = []\n",
    "ridge_mse = []\n",
    "\n",
    "for train_index, test_index in kf.split(X):\n",
    "    lasso_regressor.fit(X[train_index], y[train_index])  # 넣어준 인덱스 값만 남김\n",
    "    ridge_regressor.fit(X[train_index], y[train_index])\n",
    "    \n",
    "    lasso_mse.append(mean_squared_error(y[test_index], lasso_regressor.predict(X[test_index])))\n",
    "    ridge_mse.append(mean_squared_error(y[test_index], ridge_regressor.predict(X[test_index])))\n",
    "    \n",
    "sum(lasso_mse) / 10, sum(ridge_mse) / 10"
   ]
  },
  {
   "cell_type": "markdown",
   "id": "empty-column",
   "metadata": {},
   "source": [
    "# K-fold Cross Validation"
   ]
  },
  {
   "cell_type": "markdown",
   "id": "greek-mining",
   "metadata": {},
   "source": [
    "- 학습 데이터를 K번 나눠서 Test와 Train을 실시-> Test의 평균값을 사용\n",
    "- cross_val_score 함수로, 한번에 해결가능\n",
    "- sklearn은 pipeline 등을 위해 \"High is better\"(큰 값일수록 성능이 좋은 것이다)로 처리 -> MSE를 Negative로 변환 \n",
    "- 이로인해 RMSE를 지원하지 않음\n",
    "-https://scikit-learn.org/stable/modules/model_evaluation.html "
   ]
  },
  {
   "cell_type": "code",
   "execution_count": 27,
   "id": "stuck-failure",
   "metadata": {},
   "outputs": [
    {
     "data": {
      "text/plain": [
       "(-34.46408458830231, -34.07824620925927)"
      ]
     },
     "execution_count": 27,
     "metadata": {},
     "output_type": "execute_result"
    }
   ],
   "source": [
    "from sklearn.model_selection import cross_val_score\n",
    "import numpy as np \n",
    "\n",
    "lasso_regressor = Lasso(warm_start=False)\n",
    "ridge_regressor = Ridge()\n",
    "\n",
    "lasso_scores = cross_val_score(lasso_regressor, X, y, cv=10, scoring='neg_mean_squared_error')\n",
    "#cv는 cross validation의 약자로 k-fold 시행 횟수이다.\n",
    "ridge_scores= cross_val_score(ridge_regressor, X, y, cv=10, scoring='neg_mean_squared_error')\n",
    "np.mean(lasso_scores), np.mean(ridge_scores)"
   ]
  },
  {
   "cell_type": "markdown",
   "id": "informed-sweet",
   "metadata": {},
   "source": [
    "# Leave One Out(LOO)"
   ]
  },
  {
   "cell_type": "markdown",
   "id": "sweet-assets",
   "metadata": {},
   "source": [
    "- simple cross validation -> k = data size\n",
    "- 한번에 한 개의 데이터만 Test set으로 사용함 -> 총 k번 iteration"
   ]
  },
  {
   "cell_type": "code",
   "execution_count": 29,
   "id": "earned-accounting",
   "metadata": {},
   "outputs": [
    {
     "name": "stdout",
     "output_type": "stream",
     "text": [
      "[1 2 3] [0]\n",
      "[0 2 3] [1]\n",
      "[0 1 3] [2]\n",
      "[0 1 2] [3]\n"
     ]
    }
   ],
   "source": [
    "from sklearn.model_selection import LeaveOneOut\n",
    "\n",
    "test = [1, 2, 3, 4]\n",
    "loo = LeaveOneOut()\n",
    "for train, test in loo.split(test):\n",
    "    print(\"%s %s\" % (train, test))"
   ]
  },
  {
   "cell_type": "code",
   "execution_count": 35,
   "id": "pediatric-blackjack",
   "metadata": {},
   "outputs": [
    {
     "data": {
      "text/plain": [
       "(-28.409266762049334, -23.862836317209958)"
      ]
     },
     "execution_count": 35,
     "metadata": {},
     "output_type": "execute_result"
    }
   ],
   "source": [
    "loo = LeaveOneOut()\n",
    "    \n",
    "lasso_scores = cross_val_score(lasso_regressor, X, y, cv=loo, scoring='neg_mean_squared_error')\n",
    "ridge_scores= cross_val_score(ridge_regressor, X, y, cv=loo, scoring='neg_mean_squared_error')\n",
    "np.mean(lasso_scores), np.mean(ridge_scores)"
   ]
  },
  {
   "cell_type": "code",
   "execution_count": 37,
   "id": "lovely-springer",
   "metadata": {},
   "outputs": [
    {
     "data": {
      "text/plain": [
       "(-34.46408458830231, -34.07824620925927)"
      ]
     },
     "execution_count": 37,
     "metadata": {},
     "output_type": "execute_result"
    }
   ],
   "source": [
    "lasso_scores = cross_val_score(\n",
    "    lasso_regressor, X, y, cv=kf, scoring='neg_mean_squared_error')\n",
    "ridge_scores= cross_val_score(\n",
    "    ridge_regressor, X, y, cv=kf, scoring='neg_mean_squared_error')\n",
    "np.mean(lasso_scores), np.mean(ridge_scores)"
   ]
  },
  {
   "cell_type": "code",
   "execution_count": 38,
   "id": "competitive-earth",
   "metadata": {},
   "outputs": [
    {
     "data": {
      "image/png": "[encoded data removed]",
      "text/plain": [
       "<Figure size 432x288 with 1 Axes>"
      ]
     },
     "metadata": {
      "needs_background": "light"
     },
     "output_type": "display_data"
    }
   ],
   "source": [
    "import matplotlib.pyplot as plt\n",
    "labels=[\"LASSO\", \"RIDGE\"]\n",
    "plt.boxplot((lasso_scores, ridge_scores), labels=labels)\n",
    "plt.grid(linestyle=\"--\")\n",
    "plt.show()"
   ]
  },
  {
   "cell_type": "markdown",
   "id": "female-onion",
   "metadata": {},
   "source": [
    "# Validation set for parameter turning"
   ]
  },
  {
   "cell_type": "markdown",
   "id": "regulated-extent",
   "metadata": {},
   "source": [
    "- Validation set의 많은 이유중 하나가 Hyper parameter turning\n",
    "- Number of iterations(SGD), Number of branch (Tree-based) etc.\n",
    "- Validation set의 성능으로 최적의 parameter를 찾음\n",
    "- Validation set 결과와 Training set 결과의 차이가 벌어지면 overfitting"
   ]
  },
  {
   "cell_type": "code",
   "execution_count": 54,
   "id": "mature-auction",
   "metadata": {},
   "outputs": [],
   "source": [
    "from sklearn.linear_model import SGDRegressor\n",
    "from sklearn.preprocessing import StandardScaler\n",
    "\n",
    "def rmse(predictions, targets):\n",
    "    return np.sqrt(((predictions - targets) ** 2).mean())\n",
    "\n",
    "std = StandardScaler()\n",
    "std.fit(X)\n",
    "X_scaled = std.transform(X)\n",
    "\n",
    "eta0 = 0.0001\n",
    "max_iter = 100"
   ]
  },
  {
   "cell_type": "code",
   "execution_count": 55,
   "id": "progressive-amsterdam",
   "metadata": {},
   "outputs": [
    {
     "name": "stderr",
     "output_type": "stream",
     "text": [
      "C:\\Users\\1004\\anaconda3\\envs\\human\\lib\\site-packages\\sklearn\\linear_model\\_stochastic_gradient.py:1220: ConvergenceWarning: Maximum number of iteration reached before convergence. Consider increasing max_iter to improve the fit.\n",
      "  warnings.warn(\"Maximum number of iteration reached before \"\n",
      "C:\\Users\\1004\\anaconda3\\envs\\human\\lib\\site-packages\\sklearn\\linear_model\\_stochastic_gradient.py:1220: ConvergenceWarning: Maximum number of iteration reached before convergence. Consider increasing max_iter to improve the fit.\n",
      "  warnings.warn(\"Maximum number of iteration reached before \"\n"
     ]
    }
   ],
   "source": [
    "from sklearn.model_selection import train_test_split\n",
    "\n",
    "\n",
    "X_train_dataset, X_test, y_train_dataset, y_test = train_test_split(\n",
    "            X_scaled,y, test_size=0.2, random_state=42)\n",
    "\n",
    "sgd_regressor = SGDRegressor(\n",
    "    eta0=eta0, max_iter=max_iter, warm_start=True, learning_rate=\"constant\")\n",
    "\n",
    "rmse_val_score = []\n",
    "rmse_train_score = []\n",
    "model_list = []\n",
    "\n",
    "X_train, X_val, y_train, y_val = train_test_split(\n",
    "    X_train_dataset,y_train_dataset, test_size=0.2, random_state=42)\n",
    "sgd_regressor.fit(X_train,y_train)\n",
    "\n",
    "# kf = KFold(n_splits=100, shuffle=True)\n",
    "# for train_index, test_index in kf.split(X_train_dataset):\n",
    "\n",
    "for i in range(300):\n",
    "\n",
    "    y_pred = sgd_regressor.predict(X_train)\n",
    "    y_true = y_train\n",
    "    rmse_train_score.append(rmse(y_pred, y_true))\n",
    "\n",
    "    y_pred = sgd_regressor.predict(X_val)\n",
    "    y_true = y_val\n",
    "    rmse_val_score.append(rmse(y_pred, y_true))\n",
    "    model_list.append(sgd_regressor) # 인스턴스를 담고 \n",
    " \n",
    "    coef = sgd_regressor.coef_.copy()\n",
    "    intercept = sgd_regressor.intercept_.copy()\n",
    "\n",
    "    sgd_regressor = SGDRegressor(\n",
    "        eta0=eta0, max_iter=max_iter, warm_start=True, learning_rate=\"constant\")\n",
    "    \n",
    "    sgd_regressor.fit(X_train,y_train, coef_init=coef, intercept_init=intercept)"
   ]
  },
  {
   "cell_type": "code",
   "execution_count": 56,
   "id": "functioning-principal",
   "metadata": {},
   "outputs": [
    {
     "data": {
      "image/png": "[encoded data removed]",
      "text/plain": [
       "<Figure size 432x288 with 1 Axes>"
      ]
     },
     "metadata": {
      "needs_background": "light"
     },
     "output_type": "display_data"
    }
   ],
   "source": [
    "plt.plot(range(len(rmse_val_score)), rmse_val_score,  c=\"g\", label=\"VAL\")\n",
    "plt.plot(range(len(rmse_train_score)), rmse_train_score,  c=\"r\", label=\"TRAINING\")\n",
    "plt.scatter(99, rmse(y_test,sgd_regressor.predict(X_test)), s=1, label=\"TEST\")\n",
    "plt.legend()\n",
    "plt.show()"
   ]
  },
  {
   "cell_type": "code",
   "execution_count": 57,
   "id": "modified-discharge",
   "metadata": {},
   "outputs": [
    {
     "data": {
      "text/plain": [
       "array([299, 290, 277, 285, 289, 287, 288, 283, 257, 275, 291, 273, 294,\n",
       "       297, 284, 272, 286, 292, 258, 295, 274, 281, 298, 255, 276, 256,\n",
       "       296, 293, 271, 253, 278, 254, 266, 252, 280, 259, 243, 263, 282,\n",
       "       279, 270, 248, 260, 269, 244, 264, 247, 261, 249, 238, 251, 265,\n",
       "       267, 262, 268, 236, 235, 242, 237, 245, 241, 250, 240, 239, 246,\n",
       "       227, 233, 232, 228, 230, 220, 231, 234, 225, 224, 226, 218, 219,\n",
       "       216, 229, 211, 212, 217, 204, 203, 222, 223, 213, 221, 215, 210,\n",
       "       209, 214, 208, 206, 207, 202, 197, 205, 200, 196, 190, 199, 201,\n",
       "       198, 194, 185, 186, 195, 191, 189, 184, 193, 183, 192, 187, 176,\n",
       "       188, 182, 181, 179, 177, 178, 180, 173, 175, 174, 172, 170, 171,\n",
       "       165, 164, 169, 162, 167, 168, 166, 163, 161, 160, 159, 158, 157,\n",
       "       154, 144, 145, 153, 156, 152, 155, 148, 149, 151, 150, 146, 147,\n",
       "       143, 142, 141, 138, 140, 137, 139, 126, 136, 133, 134, 135, 131,\n",
       "       128, 132, 130, 129, 123, 124, 125, 127, 122, 119, 121, 120, 117,\n",
       "       118, 116, 113, 110, 115, 114, 109, 112, 108, 111, 104, 105, 102,\n",
       "       103, 107, 106, 101, 100,  99,  98,  97,  96,  95,  93,  90,  91,\n",
       "        92,  94,  89,  87,  88,  83,  84,  85,  86,  82,  81,  79,  80,\n",
       "        75,  78,  76,  73,  74,  77,  71,  70,  72,  69,  68,  66,  67,\n",
       "        65,  64,  59,  62,  63,  60,  58,  61,  57,  55,  52,  54,  56,\n",
       "        51,  53,  50,  49,  46,  48,  47,  44,  43,  45,  42,  41,  39,\n",
       "        40,  38,  37,  33,  36,  34,  31,  32,  35,  30,  29,  28,  27,\n",
       "        26,  25,  24,  23,  22,  20,  21,  18,  19,  17,  16,  14,  15,\n",
       "        13,  12,  10,  11,   9,   8,   7,   6,   5,   4,   3,   2,   1,\n",
       "         0], dtype=int64)"
      ]
     },
     "execution_count": 57,
     "metadata": {},
     "output_type": "execute_result"
    }
   ],
   "source": [
    "np.argsort(rmse_val_score)"
   ]
  },
  {
   "cell_type": "code",
   "execution_count": 58,
   "id": "valid-trinity",
   "metadata": {},
   "outputs": [
    {
     "data": {
      "text/plain": [
       "5.011628307560952"
      ]
     },
     "execution_count": 58,
     "metadata": {},
     "output_type": "execute_result"
    }
   ],
   "source": [
    "rmse(y_test,sgd_regressor.predict(X_test))"
   ]
  },
  {
   "cell_type": "code",
   "execution_count": 63,
   "id": "mechanical-providence",
   "metadata": {},
   "outputs": [
    {
     "data": {
      "text/plain": [
       "5.406873370591457"
      ]
     },
     "execution_count": 63,
     "metadata": {},
     "output_type": "execute_result"
    }
   ],
   "source": [
    "rmse(y_test,model_list[0].predict(X_test))"
   ]
  },
  {
   "cell_type": "code",
   "execution_count": 60,
   "id": "medieval-circus",
   "metadata": {},
   "outputs": [
    {
     "data": {
      "text/plain": [
       "5.011020927012706"
      ]
     },
     "execution_count": 60,
     "metadata": {},
     "output_type": "execute_result"
    }
   ],
   "source": [
    "rmse(y_test,model_list[299].predict(X_test))"
   ]
  },
  {
   "cell_type": "markdown",
   "id": "otherwise-sixth",
   "metadata": {},
   "source": [
    "# ETC..."
   ]
  },
  {
   "cell_type": "markdown",
   "id": "engaged-elephant",
   "metadata": {},
   "source": [
    "- ReapatedKFold - 중복이 포함된 K-Fold 생성\n",
    "- LeavePOut - 한번에 P개를 뽑음 (Not LOO for one data)\n",
    "- ShuffleSplit - 독립적인(중복되는) 데이터 sampling\n",
    "- StatifiedKFold - Y값 비율에 따라 뽑음\n",
    "- GroupKFold - 그룹별로 데이터를 sampling"
   ]
  },
  {
   "cell_type": "code",
   "execution_count": null,
   "id": "neutral-comparison",
   "metadata": {},
   "outputs": [],
   "source": []
  }
 ],
 "metadata": {
  "kernelspec": {
   "display_name": "Python 3",
   "language": "python",
   "name": "python3"
  },
  "language_info": {
   "codemirror_mode": {
    "name": "ipython",
    "version": 3
   },
   "file_extension": ".py",
   "mimetype": "text/x-python",
   "name": "python",
   "nbconvert_exporter": "python",
   "pygments_lexer": "ipython3",
   "version": "3.9.2"
  }
 },
 "nbformat": 4,
 "nbformat_minor": 5
}
