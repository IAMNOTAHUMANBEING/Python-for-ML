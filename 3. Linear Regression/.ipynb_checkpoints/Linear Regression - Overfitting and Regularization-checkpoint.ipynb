{
 "cells": [
  {
   "cell_type": "markdown",
   "metadata": {},
   "source": [
    "# Overfitting"
   ]
  },
  {
   "cell_type": "markdown",
   "metadata": {},
   "source": [
    "- 학습데이터 과다 최적화 -> 새로운 데이터의 예측↓"
   ]
  },
  {
   "cell_type": "markdown",
   "metadata": {},
   "source": [
    "# Bias-Variance tradeoff"
   ]
  },
  {
   "cell_type": "markdown",
   "metadata": {},
   "source": [
    "- High bias: 원래 모델에 많이 떨어짐. 잘못된 데이터만 계속 학습함 -> 잘못된 Weight만 Update\n",
    "- High Variance: 모든 데이터에 민감하게 학습. Error를 고려하지 않음 -> 모든 Weight가 Update"
   ]
  },
  {
   "cell_type": "markdown",
   "metadata": {},
   "source": [
    "# Overcoming Overfitting"
   ]
  },
  {
   "cell_type": "markdown",
   "metadata": {},
   "source": [
    "- 더 많은 데이터를 사용한다\n",
    "- Feature의 개수를 줄인다.\n",
    "- 적절히 parameter를 선정한다.\n",
    "- Regularization"
   ]
  },
  {
   "cell_type": "markdown",
   "metadata": {},
   "source": [
    "# L2 regularization"
   ]
  },
  {
   "cell_type": "markdown",
   "metadata": {},
   "source": [
    "- 기존 Cost function L2(norm) penalty term을 추가\n",
    "- norm - 벡터의 길이 혹은 크기를 측정하는 방법, L2는 Euclidean distance 원점에서 벡터 좌표까지의 거리"
   ]
  },
  {
   "cell_type": "markdown",
   "metadata": {},
   "source": [
    "# L1 regularization"
   ]
  },
  {
   "cell_type": "markdown",
   "metadata": {},
   "source": [
    "- 기존 Cost function L1(norm) penalty term을 추가\n",
    "- norm - 벡터의 길이 혹은 크기를 측정하는 방법, L1는 manhattan distance\n",
    "원점에서 벡터 좌표까지의 거리\n"
   ]
  },
  {
   "cell_type": "markdown",
   "metadata": {},
   "source": [
    "# L1 & L2"
   ]
  },
  {
   "cell_type": "markdown",
   "metadata": {},
   "source": [
    "- L1: Unstable solution, Always on solution, Sparse solution, Feature selection\n",
    "- L2: Stable solution, Only one solution, Non-sparse solution"
   ]
  },
  {
   "cell_type": "markdown",
   "metadata": {},
   "source": [
    "추가적인 이해를 위해 https://www.youtube.com/watch?v=pJCcGK5omhE&t=228s 참고"
   ]
  }
 ],
 "metadata": {
  "kernelspec": {
   "display_name": "Python 3",
   "language": "python",
   "name": "python3"
  },
  "language_info": {
   "codemirror_mode": {
    "name": "ipython",
    "version": 3
   },
   "file_extension": ".py",
   "mimetype": "text/x-python",
   "name": "python",
   "nbconvert_exporter": "python",
   "pygments_lexer": "ipython3",
   "version": "3.8.5"
  }
 },
 "nbformat": 4,
 "nbformat_minor": 4
}
