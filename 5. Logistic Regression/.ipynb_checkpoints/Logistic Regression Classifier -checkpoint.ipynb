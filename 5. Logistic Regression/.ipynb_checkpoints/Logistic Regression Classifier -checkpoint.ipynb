{
 "cells": [
  {
   "cell_type": "markdown",
   "id": "proof-manor",
   "metadata": {},
   "source": [
    "# Classification Problem"
   ]
  },
  {
   "cell_type": "markdown",
   "id": "heard-fifth",
   "metadata": {},
   "source": [
    "## 기존 접근의 문제점들 "
   ]
  },
  {
   "cell_type": "markdown",
   "id": "married-vatican",
   "metadata": {},
   "source": [
    "- 1이상 또는 0이하의 수들이 나오는 걸 어떻게 해석?\n",
    "- 1 또는 0으로 정확히 표현이 가능한가?\n",
    "- 변수가 Y에 영향을 주는 정도가 비례하는가?\n",
    "- 확률로 발생할 사건의 가능성을 표현해야함"
   ]
  },
  {
   "cell_type": "markdown",
   "id": "fourth-compromise",
   "metadata": {},
   "source": [
    "## Solution"
   ]
  },
  {
   "cell_type": "markdown",
   "id": "yellow-outline",
   "metadata": {},
   "source": [
    "- 분류 가능성을 확률로 나타내자!"
   ]
  },
  {
   "cell_type": "markdown",
   "id": "placed-recognition",
   "metadata": {},
   "source": [
    "## Odds Ratio"
   ]
  },
  {
   "cell_type": "markdown",
   "id": "outside-hanging",
   "metadata": {},
   "source": [
    "- 해당 사건이 일어날 확률과 일어나지 않을 확률의 비율\n",
    "- P(X)/1-P(X)"
   ]
  },
  {
   "cell_type": "markdown",
   "id": "wound-index",
   "metadata": {},
   "source": [
    "## Logit Function"
   ]
  },
  {
   "cell_type": "markdown",
   "id": "seasonal-swaziland",
   "metadata": {},
   "source": [
    "- X의 값이 주어졌을 때 y의 확률을 이용한 log odds \n",
    "- -loge(1/p-1)"
   ]
  },
  {
   "cell_type": "markdown",
   "id": "separated-edwards",
   "metadata": {},
   "source": [
    "## Sigmoid(=Logistic) Function"
   ]
  },
  {
   "cell_type": "markdown",
   "id": "third-delicious",
   "metadata": {},
   "source": [
    "- Logit 함수의 역함수로 z에 관한 확률을 산출"
   ]
  },
  {
   "cell_type": "code",
   "execution_count": null,
   "id": "relevant-machinery",
   "metadata": {},
   "outputs": [],
   "source": []
  }
 ],
 "metadata": {
  "kernelspec": {
   "display_name": "Python 3",
   "language": "python",
   "name": "python3"
  },
  "language_info": {
   "codemirror_mode": {
    "name": "ipython",
    "version": 3
   },
   "file_extension": ".py",
   "mimetype": "text/x-python",
   "name": "python",
   "nbconvert_exporter": "python",
   "pygments_lexer": "ipython3",
   "version": "3.9.2"
  }
 },
 "nbformat": 4,
 "nbformat_minor": 5
}
